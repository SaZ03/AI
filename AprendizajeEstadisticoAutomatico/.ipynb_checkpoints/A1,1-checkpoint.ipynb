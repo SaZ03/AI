{
 "cells": [
  {
   "cell_type": "markdown",
   "id": "9b30f924",
   "metadata": {},
   "source": [
    "# A1.1 Aprendizaje estadístico-automático – Inteligencia Artificial \n",
    "### Sergio Alejandro Zamora Dávila 616148"
   ]
  },
  {
   "cell_type": "markdown",
   "id": "054e543f",
   "metadata": {},
   "source": [
    "Iniciaré importando la base de datos\n"
   ]
  },
  {
   "cell_type": "markdown",
   "id": "e5b6138c",
   "metadata": {},
   "source": [
    "1. Importa los datos del archivo “Obesidad.csv” a tu ambiente de trabajo en una Jupyter\n",
    "Notebook y muestra en consola un resumen, imprimiendo las primeras 10 filas de datos.\n",
    "Recuerda que es conveniente que el archivo “csv” y tu libreta estén en el mismo directorio."
   ]
  },
  {
   "cell_type": "code",
   "execution_count": 10,
   "id": "04605886",
   "metadata": {},
   "outputs": [
    {
     "name": "stdout",
     "output_type": "stream",
     "text": [
      "     Sexo  Edad  Estatura  Peso FamiliarConSobrepeso ComeMuchasCalorias  \\\n",
      "0  Female  21.0      1.62  64.0                  yes                 no   \n",
      "1  Female  21.0      1.52  56.0                  yes                 no   \n",
      "2    Male  23.0      1.80  77.0                  yes                 no   \n",
      "3    Male  27.0      1.80  87.0                   no                 no   \n",
      "4    Male  22.0      1.78  89.8                   no                 no   \n",
      "5    Male  29.0      1.62  53.0                   no                yes   \n",
      "6  Female  23.0      1.50  55.0                  yes                yes   \n",
      "7    Male  22.0      1.64  53.0                   no                 no   \n",
      "8    Male  24.0      1.78  64.0                  yes                yes   \n",
      "9    Male  22.0      1.72  68.0                  yes                yes   \n",
      "\n",
      "   ComeVegetales Fumador  ConsumoDeAgua      NivelDeObesidad  \n",
      "0            2.0      no            2.0        Normal_Weight  \n",
      "1            3.0     yes            3.0        Normal_Weight  \n",
      "2            2.0      no            2.0        Normal_Weight  \n",
      "3            3.0      no            2.0   Overweight_Level_I  \n",
      "4            2.0      no            2.0  Overweight_Level_II  \n",
      "5            2.0      no            2.0        Normal_Weight  \n",
      "6            3.0      no            2.0        Normal_Weight  \n",
      "7            2.0      no            2.0        Normal_Weight  \n",
      "8            3.0      no            2.0        Normal_Weight  \n",
      "9            2.0      no            2.0        Normal_Weight  \n"
     ]
    }
   ],
   "source": [
    "import pandas as pd\n",
    "data = pd.read_csv(\"A1.1Aprendizaje estadístico automático/A1.1 Obesidad.csv\")\n",
    "# Lo tengo que guardar con el /, ya que al estar editanto esto desde Visual Studio Code tengo que especificar la carpeta, si no hago esto me marca error\n",
    "print(data.head(10))\n",
    "# Busque como hacer que imprimiera los 10 que se necesitan, solo habia que ponerle el 10 dentro del head"
   ]
  },
  {
   "cell_type": "markdown",
   "id": "ef204f16",
   "metadata": {},
   "source": [
    "2. Imprime en consola o genera un cuadro de descripción que muestre un mensaje donde\n",
    "indiques qué otra variable hubieras decidido medir si formaras parte del grupo de\n",
    "investigación, indicando claramente si la información recopilada se consideraría como\n",
    "cuantitativa o cualitativa."
   ]
  },
  {
   "cell_type": "code",
   "execution_count": 11,
   "id": "d4797a58",
   "metadata": {},
   "outputs": [
    {
     "name": "stdout",
     "output_type": "stream",
     "text": [
      "Si formara parte del grupo de investigación añadiría las siguientes variables:\n",
      "CantEjer, me gustaria saber la cantidad de horas semanales de ejercicio que cada persona hace, seria una variable cuantitativa ya que se mediria en horas\n",
      "VisitasAlDoctor: Quisiera saber si la persona suele revisarse con el doctor. Lo clasificaría en 5 categorías (variable cualitativa): 1 = nunca, 2 = solo cuando es necesario, 3 = cada 3 meses aproximadamente, 4 = al menos una vez al mes, y 5 = casos especiales de revisiones diarias o muy frecuentes.\n"
     ]
    }
   ],
   "source": [
    "print(\"Si formara parte del grupo de investigación añadiría las siguientes variables:\")\n",
    "#Este primero me parece muy simple, ya que la cantidad de ejercicio que la persona hace afectara a la persona en un futuro, con este dato se podria llegar a la posibilidad de predecir el peso de la persona\n",
    "print(\"CantEjer, me gustaria saber la cantidad de horas semanales de ejercicio que cada persona hace, seria una variable cuantitativa ya que se mediria en horas\")\n",
    "#Este dato podria ayudar a complementar informacion, ya que si una persona va constantemente al doctor y tiene deseos de cuidarse es mas probable que la persona este en un peso mas adecuado para ella \n",
    "print(\"VisitasAlDoctor: Quisiera saber si la persona suele revisarse con el doctor. Lo clasificaría en 5 categorías (variable cualitativa): 1 = nunca, 2 = solo cuando es necesario, 3 = cada 3 meses aproximadamente, 4 = al menos una vez al mes, y 5 = casos especiales de revisiones diarias o muy frecuentes.\")\n"
   ]
  },
  {
   "cell_type": "markdown",
   "id": "b97b55da",
   "metadata": {},
   "source": [
    "3. Si tú fueras el líder del proyecto y quisieras realizar un estudio de inferencia, ¿qué variable\n",
    "de la base de datos definirías como la salida o respuesta? Aquella variable para la que te\n",
    "interesa encontrar asociaciones específicas. Imprime el promedio de dicha variable, si es\n",
    "cuantitativa, o la cantidad de personas que pertenecen a cada categoría, si es cualitativa.\n"
   ]
  },
  {
   "cell_type": "markdown",
   "id": "e6db5ee5",
   "metadata": {},
   "source": [
    "        a. Para calcular el promedio puedes usar la función “mean()” de pandas."
   ]
  },
  {
   "cell_type": "code",
   "execution_count": 12,
   "id": "d838b22c",
   "metadata": {},
   "outputs": [
    {
     "name": "stdout",
     "output_type": "stream",
     "text": [
      "El peso promedio de las personas en la base de datos es de:\n",
      "86.58605812648035\n"
     ]
    }
   ],
   "source": [
    "# Utilizaria el valor de Peso como salida o respuesta, con los demas datos de la base de datos se podria llegar a inferir el peso del individuo\n",
    "import numpy as np\n",
    "print(\"El peso promedio de las personas en la base de datos es de:\")\n",
    "# Esto lo aprendi de la \"lectura previa\"\n",
    "print(np.mean(data.Peso)) "
   ]
  },
  {
   "cell_type": "markdown",
   "id": "e59fbdd5",
   "metadata": {},
   "source": [
    "        b. Para calcular la cantidad de personas que pertenecen a cada categoría puedes usar la función “value_counts()” de pandas."
   ]
  },
  {
   "cell_type": "code",
   "execution_count": 13,
   "id": "13f31cc9",
   "metadata": {},
   "outputs": [
    {
     "name": "stdout",
     "output_type": "stream",
     "text": [
      "Cantidad de personas en cada categoría de NivelDeObesidad:\n",
      "NivelDeObesidad\n",
      "Obesity_Type_I         351\n",
      "Obesity_Type_III       324\n",
      "Obesity_Type_II        297\n",
      "Overweight_Level_I     290\n",
      "Overweight_Level_II    290\n",
      "Normal_Weight          287\n",
      "Insufficient_Weight    272\n",
      "Name: count, dtype: int64\n"
     ]
    }
   ],
   "source": [
    "# Esto es similar al anterior, ya que se podria inferir un peso estimado del individuo, y con ello categorizarlo en un nivel de Obesidad \n",
    "print(\"Cantidad de personas en cada categoría de NivelDeObesidad:\")\n",
    "print(data['NivelDeObesidad'].value_counts())"
   ]
  }
 ],
 "metadata": {
  "kernelspec": {
   "display_name": "Python 3 (ipykernel)",
   "language": "python",
   "name": "python3"
  },
  "language_info": {
   "codemirror_mode": {
    "name": "ipython",
    "version": 3
   },
   "file_extension": ".py",
   "mimetype": "text/x-python",
   "name": "python",
   "nbconvert_exporter": "python",
   "pygments_lexer": "ipython3",
   "version": "3.13.6"
  }
 },
 "nbformat": 4,
 "nbformat_minor": 5
}
